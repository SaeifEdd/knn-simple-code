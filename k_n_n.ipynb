{
 "cells": [
  {
   "cell_type": "code",
   "execution_count": 10,
   "id": "b492c7a1",
   "metadata": {},
   "outputs": [],
   "source": [
    "import numpy as np\n",
    "import pandas as pd\n",
    "from sklearn.datasets import load_iris\n",
    "from collections import Counter\n",
    "from sklearn.model_selection import train_test_split"
   ]
  },
  {
   "cell_type": "code",
   "execution_count": 21,
   "id": "54c04395",
   "metadata": {},
   "outputs": [],
   "source": [
    "class k_nearest_neighbor:\n",
    "    def __init__(self, k):\n",
    "        self.k = k\n",
    "    \n",
    "    def train(self, X, y):\n",
    "        self.x_train = X\n",
    "        self.y_train = y\n",
    "    \n",
    "    def get_distance(self, x1, x2):\n",
    "        d = np.sqrt(np.sum((x1-x2)**2))\n",
    "        return d\n",
    "    \n",
    "    def get_class(self, x):\n",
    "        \n",
    "        distances = [self.get_distance(x, xi) for xi in self.x_train]\n",
    "        sort_idx = np.argsort(distances)\n",
    "        neighbors = sort_idx[:self.k]\n",
    "        voted_class = Counter(self.y_train[neighbors]).most_common(1)[0][0]\n",
    "        \n",
    "        return voted_class\n",
    "    \n",
    "    def predict(self, X):\n",
    "        preds = np.array([self.get_class(xi) for xi in X])\n",
    "        return preds\n",
    "\n",
    " "
   ]
  },
  {
   "cell_type": "code",
   "execution_count": 13,
   "id": "bb0fd299",
   "metadata": {},
   "outputs": [],
   "source": [
    "X = load_iris().data\n",
    "y = load_iris().target\n",
    "x_train, x_test, y_train, y_test = train_test_split(X, y, test_size = 0.2, random_state = 42)"
   ]
  },
  {
   "cell_type": "code",
   "execution_count": 22,
   "id": "13554bd3",
   "metadata": {},
   "outputs": [],
   "source": [
    "model = k_nearest_neighbor(k = 3)\n",
    "model.train(x_train, y_train)\n",
    "predictions = model.predict(x_test)"
   ]
  },
  {
   "cell_type": "code",
   "execution_count": 23,
   "id": "be83ec12",
   "metadata": {},
   "outputs": [
    {
     "name": "stdout",
     "output_type": "stream",
     "text": [
      "accuracy :  1.0\n"
     ]
    }
   ],
   "source": [
    "def accuracy(y_pred, y_true):\n",
    "    acc = np.sum(y_pred == y_true)/len(y_true)\n",
    "    return acc\n",
    "\n",
    "print(\"accuracy : \", accuracy(predictions, y_test))"
   ]
  },
  {
   "cell_type": "code",
   "execution_count": null,
   "id": "ef635e9b",
   "metadata": {},
   "outputs": [],
   "source": []
  }
 ],
 "metadata": {
  "kernelspec": {
   "display_name": "Python 3 (ipykernel)",
   "language": "python",
   "name": "python3"
  },
  "language_info": {
   "codemirror_mode": {
    "name": "ipython",
    "version": 3
   },
   "file_extension": ".py",
   "mimetype": "text/x-python",
   "name": "python",
   "nbconvert_exporter": "python",
   "pygments_lexer": "ipython3",
   "version": "3.9.13"
  }
 },
 "nbformat": 4,
 "nbformat_minor": 5
}
